{
 "cells": [
  {
   "cell_type": "code",
   "execution_count": 1,
   "id": "3ae5b7d5-05d4-419e-a53b-840838b187d5",
   "metadata": {},
   "outputs": [],
   "source": [
    "import setup\n",
    "setup.init()"
   ]
  },
  {
   "cell_type": "code",
   "execution_count": 2,
   "id": "843af74c-08b0-4e05-b014-b6be2203d2bf",
   "metadata": {},
   "outputs": [
    {
     "name": "stdout",
     "output_type": "stream",
     "text": [
      "ERROR! Session/line number was not unique in database. History logging moved to new session 369\n"
     ]
    }
   ],
   "source": [
    "from django.contrib.auth import get_user_model"
   ]
  },
  {
   "cell_type": "code",
   "execution_count": 3,
   "id": "81dbc1ac-9e67-46e0-bf87-438564f9fb53",
   "metadata": {},
   "outputs": [],
   "source": [
    "User = get_user_model()"
   ]
  },
  {
   "cell_type": "code",
   "execution_count": 4,
   "id": "aa9569d0-b02e-430a-ba6e-faed0b187594",
   "metadata": {},
   "outputs": [
    {
     "data": {
      "text/plain": [
       "<User: justin>"
      ]
     },
     "execution_count": 4,
     "metadata": {},
     "output_type": "execute_result"
    }
   ],
   "source": [
    "user = User.objects.get(username='justin')\n",
    "user"
   ]
  },
  {
   "cell_type": "code",
   "execution_count": 5,
   "id": "8a1c0137-9cc6-4228-9d95-15e1bf5086fc",
   "metadata": {},
   "outputs": [
    {
     "data": {
      "text/plain": [
       "3"
      ]
     },
     "execution_count": 5,
     "metadata": {},
     "output_type": "execute_result"
    }
   ],
   "source": [
    "user.id"
   ]
  },
  {
   "cell_type": "code",
   "execution_count": 6,
   "id": "56ebb9ae-2f20-4c03-92c1-8449284dbfec",
   "metadata": {},
   "outputs": [],
   "source": [
    "# dir(user)"
   ]
  },
  {
   "cell_type": "code",
   "execution_count": 7,
   "id": "8c925558-9260-4638-aaca-e153f2fc0ba9",
   "metadata": {},
   "outputs": [
    {
     "data": {
      "text/plain": [
       "<SocialAccount: justin>"
      ]
     },
     "execution_count": 7,
     "metadata": {},
     "output_type": "execute_result"
    }
   ],
   "source": [
    "user_linkedin = user.socialaccount_set.first()\n",
    "user_linkedin"
   ]
  },
  {
   "cell_type": "code",
   "execution_count": 24,
   "id": "5aa27791-6e1d-4c4a-a99f-44a08a2c0ee3",
   "metadata": {},
   "outputs": [
    {
     "data": {
      "text/plain": [
       "<SocialAccount: justin>"
      ]
     },
     "execution_count": 24,
     "metadata": {},
     "output_type": "execute_result"
    }
   ],
   "source": [
    "user.socialaccount_set.get(provider=\"linkedin\")"
   ]
  },
  {
   "cell_type": "code",
   "execution_count": 8,
   "id": "b775d7d8-b5e5-4b35-8ba3-df30934237e2",
   "metadata": {},
   "outputs": [],
   "source": [
    "# dir(user_linkedin)"
   ]
  },
  {
   "cell_type": "code",
   "execution_count": 9,
   "id": "8c58f95d-72f0-4ae6-84a5-6acabfae3fbf",
   "metadata": {},
   "outputs": [
    {
     "data": {
      "text/plain": [
       "'linkedin'"
      ]
     },
     "execution_count": 9,
     "metadata": {},
     "output_type": "execute_result"
    }
   ],
   "source": [
    "user_linkedin.provider"
   ]
  },
  {
   "cell_type": "code",
   "execution_count": 10,
   "id": "07458426-4641-4091-8718-d4c8e08e98b3",
   "metadata": {},
   "outputs": [],
   "source": [
    "user_id = user_linkedin.uid"
   ]
  },
  {
   "cell_type": "code",
   "execution_count": 25,
   "id": "26c88395-1e7d-48db-b47f-a5f1db70b2bb",
   "metadata": {},
   "outputs": [
    {
     "data": {
      "text/plain": [
       "<QuerySet [<SocialToken: social application token (2)>]>"
      ]
     },
     "execution_count": 25,
     "metadata": {},
     "output_type": "execute_result"
    }
   ],
   "source": [
    "tokens = user_linkedin.socialtoken_set.all()\n",
    "tokens"
   ]
  },
  {
   "cell_type": "code",
   "execution_count": 12,
   "id": "e2fef7de-6634-41ea-9ee5-183a8a7e4fdd",
   "metadata": {},
   "outputs": [
    {
     "data": {
      "text/plain": [
       "<SocialToken: social application token (2)>"
      ]
     },
     "execution_count": 12,
     "metadata": {},
     "output_type": "execute_result"
    }
   ],
   "source": [
    "social_token = tokens.first()\n",
    "social_token"
   ]
  },
  {
   "cell_type": "code",
   "execution_count": 13,
   "id": "e10c3af0-6218-497e-ae04-901d08959edc",
   "metadata": {},
   "outputs": [],
   "source": [
    "# dir(social_token)"
   ]
  },
  {
   "cell_type": "code",
   "execution_count": 14,
   "id": "1a257c87-fa6c-48a5-9a81-885169920412",
   "metadata": {},
   "outputs": [],
   "source": [
    "# social_token.token"
   ]
  },
  {
   "cell_type": "code",
   "execution_count": 15,
   "id": "0f9e4610-d879-4727-a31e-ccb6513c9136",
   "metadata": {},
   "outputs": [],
   "source": [
    "import requests"
   ]
  },
  {
   "cell_type": "code",
   "execution_count": 16,
   "id": "e7a5c042-748b-484a-bc5b-8b175e3d19f6",
   "metadata": {},
   "outputs": [],
   "source": [
    "endpoint = \"https://api.linkedin.com/v2/ugcPosts\"\n",
    "method = \"POST\"\n",
    "headers = {\n",
    "    \"Authorization\": f\"Bearer {social_token.token}\",\n",
    "    \"X-Restli-Protocol-Version\": \"2.0.0\"\n",
    "}"
   ]
  },
  {
   "cell_type": "code",
   "execution_count": 18,
   "id": "8aa0eba3-207e-4902-b394-2abf39a9c6d8",
   "metadata": {},
   "outputs": [],
   "source": [
    "payload = {\n",
    "    \"author\": f\"urn:li:person:{user_id}\",\n",
    "    \"lifecycleState\": \"PUBLISHED\",\n",
    "    \"specificContent\": {\n",
    "        \"com.linkedin.ugc.ShareContent\": {\n",
    "            \"shareCommentary\": {\n",
    "                \"text\": \"Hello LinkedIn with my App 🚀 and new tutorial!\"\n",
    "            },\n",
    "            \"shareMediaCategory\": \"NONE\"\n",
    "        }\n",
    "    },\n",
    "    \"visibility\": {\n",
    "        \"com.linkedin.ugc.MemberNetworkVisibility\": \"PUBLIC\"\n",
    "    }\n",
    "}"
   ]
  },
  {
   "cell_type": "code",
   "execution_count": 21,
   "id": "be432d32-c97d-4821-adf8-adce9a1b5b98",
   "metadata": {},
   "outputs": [
    {
     "ename": "HTTPError",
     "evalue": "422 Client Error: Unprocessable Entity for url: https://api.linkedin.com/v2/ugcPosts",
     "output_type": "error",
     "traceback": [
      "\u001b[31m---------------------------------------------------------------------------\u001b[39m",
      "\u001b[31mHTTPError\u001b[39m                                 Traceback (most recent call last)",
      "\u001b[36mCell\u001b[39m\u001b[36m \u001b[39m\u001b[32mIn[21]\u001b[39m\u001b[32m, line 2\u001b[39m\n\u001b[32m      1\u001b[39m response = requests.post(endpoint, json=payload, headers=headers)\n\u001b[32m----> \u001b[39m\u001b[32m2\u001b[39m \u001b[43mresponse\u001b[49m\u001b[43m.\u001b[49m\u001b[43mraise_for_status\u001b[49m\u001b[43m(\u001b[49m\u001b[43m)\u001b[49m\n",
      "\u001b[36mFile \u001b[39m\u001b[32m~/Dev/social-share/venv/lib/python3.13/site-packages/requests/models.py:1026\u001b[39m, in \u001b[36mResponse.raise_for_status\u001b[39m\u001b[34m(self)\u001b[39m\n\u001b[32m   1021\u001b[39m     http_error_msg = (\n\u001b[32m   1022\u001b[39m         \u001b[33mf\u001b[39m\u001b[33m\"\u001b[39m\u001b[38;5;132;01m{\u001b[39;00m\u001b[38;5;28mself\u001b[39m.status_code\u001b[38;5;132;01m}\u001b[39;00m\u001b[33m Server Error: \u001b[39m\u001b[38;5;132;01m{\u001b[39;00mreason\u001b[38;5;132;01m}\u001b[39;00m\u001b[33m for url: \u001b[39m\u001b[38;5;132;01m{\u001b[39;00m\u001b[38;5;28mself\u001b[39m.url\u001b[38;5;132;01m}\u001b[39;00m\u001b[33m\"\u001b[39m\n\u001b[32m   1023\u001b[39m     )\n\u001b[32m   1025\u001b[39m \u001b[38;5;28;01mif\u001b[39;00m http_error_msg:\n\u001b[32m-> \u001b[39m\u001b[32m1026\u001b[39m     \u001b[38;5;28;01mraise\u001b[39;00m HTTPError(http_error_msg, response=\u001b[38;5;28mself\u001b[39m)\n",
      "\u001b[31mHTTPError\u001b[39m: 422 Client Error: Unprocessable Entity for url: https://api.linkedin.com/v2/ugcPosts"
     ]
    }
   ],
   "source": [
    "response = requests.post(endpoint, json=payload, headers=headers)\n",
    "response.raise_for_status()"
   ]
  },
  {
   "cell_type": "code",
   "execution_count": 23,
   "id": "b29108ab-5aec-4d63-879c-904ad4feff1c",
   "metadata": {},
   "outputs": [
    {
     "data": {
      "text/plain": [
       "{'errorDetailType': 'com.linkedin.common.error.BadRequest',\n",
       " 'message': 'com.linkedin.content.common.exception.BadRequestResponseException: Content is a duplicate of urn:li:share:7351766604143087617',\n",
       " 'errorDetails': {'inputErrors': [{'description': 'Duplicate post is detected',\n",
       "    'input': {},\n",
       "    'code': 'DUPLICATE_POST'}]},\n",
       " 'status': 422}"
      ]
     },
     "execution_count": 23,
     "metadata": {},
     "output_type": "execute_result"
    }
   ],
   "source": [
    "response.json()"
   ]
  },
  {
   "cell_type": "code",
   "execution_count": 22,
   "id": "dd48ce5b-6f3e-4d6c-8b22-4946a62a3db8",
   "metadata": {},
   "outputs": [
    {
     "data": {
      "text/plain": [
       "'{\"errorDetailType\":\"com.linkedin.common.error.BadRequest\",\"message\":\"com.linkedin.content.common.exception.BadRequestResponseException: Content is a duplicate of urn:li:share:7351766604143087617\",\"errorDetails\":{\"inputErrors\":[{\"description\":\"Duplicate post is detected\",\"input\":{},\"code\":\"DUPLICATE_POST\"}]},\"status\":422}'"
      ]
     },
     "execution_count": 22,
     "metadata": {},
     "output_type": "execute_result"
    }
   ],
   "source": [
    "response.text"
   ]
  },
  {
   "cell_type": "code",
   "execution_count": null,
   "id": "15660afa-a41e-426c-82b9-9436d85b1aa9",
   "metadata": {},
   "outputs": [],
   "source": []
  }
 ],
 "metadata": {
  "kernelspec": {
   "display_name": "Python 3 (ipykernel)",
   "language": "python",
   "name": "python3"
  },
  "language_info": {
   "codemirror_mode": {
    "name": "ipython",
    "version": 3
   },
   "file_extension": ".py",
   "mimetype": "text/x-python",
   "name": "python",
   "nbconvert_exporter": "python",
   "pygments_lexer": "ipython3",
   "version": "3.13.1"
  }
 },
 "nbformat": 4,
 "nbformat_minor": 5
}
