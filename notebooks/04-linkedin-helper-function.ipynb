{
 "cells": [
  {
   "cell_type": "code",
   "execution_count": 12,
   "id": "3ae5b7d5-05d4-419e-a53b-840838b187d5",
   "metadata": {},
   "outputs": [],
   "source": [
    "import setup\n",
    "setup.init()"
   ]
  },
  {
   "cell_type": "code",
   "execution_count": 13,
   "id": "843af74c-08b0-4e05-b014-b6be2203d2bf",
   "metadata": {},
   "outputs": [],
   "source": [
    "from django.contrib.auth import get_user_model"
   ]
  },
  {
   "cell_type": "code",
   "execution_count": 14,
   "id": "81dbc1ac-9e67-46e0-bf87-438564f9fb53",
   "metadata": {},
   "outputs": [],
   "source": [
    "User = get_user_model()"
   ]
  },
  {
   "cell_type": "code",
   "execution_count": 15,
   "id": "aa9569d0-b02e-430a-ba6e-faed0b187594",
   "metadata": {},
   "outputs": [],
   "source": [
    "justin_user = User.objects.get(username='jmitch')\n",
    "text = \"This is working so well, have you seen it?\""
   ]
  },
  {
   "cell_type": "code",
   "execution_count": 16,
   "id": "56ebb9ae-2f20-4c03-92c1-8449284dbfec",
   "metadata": {},
   "outputs": [],
   "source": [
    "import helpers"
   ]
  },
  {
   "cell_type": "code",
   "execution_count": 17,
   "id": "9ea941b1-eff6-48ab-8ca9-6388b5fe3d63",
   "metadata": {},
   "outputs": [],
   "source": [
    "from helpers import linkedin"
   ]
  },
  {
   "cell_type": "code",
   "execution_count": 18,
   "id": "67428177-0a9a-4057-a4cd-838f8142b451",
   "metadata": {},
   "outputs": [
    {
     "ename": "Exception",
     "evalue": "LinkedIn is incorrect or not working",
     "output_type": "error",
     "traceback": [
      "\u001b[31m---------------------------------------------------------------------------\u001b[39m",
      "\u001b[31mDoesNotExist\u001b[39m                              Traceback (most recent call last)",
      "\u001b[36mFile \u001b[39m\u001b[32m~/Dev/social-share/src/helpers/linkedin.py:8\u001b[39m, in \u001b[36mget_linkedin_user_details\u001b[39m\u001b[34m(user)\u001b[39m\n\u001b[32m      7\u001b[39m \u001b[38;5;28;01mtry\u001b[39;00m:\n\u001b[32m----> \u001b[39m\u001b[32m8\u001b[39m     linkedin_social = \u001b[43muser\u001b[49m\u001b[43m.\u001b[49m\u001b[43msocialaccount_set\u001b[49m\u001b[43m.\u001b[49m\u001b[43mget\u001b[49m\u001b[43m(\u001b[49m\u001b[43mprovider\u001b[49m\u001b[43m=\u001b[49m\u001b[33;43m\"\u001b[39;49m\u001b[33;43mlinkedin\u001b[39;49m\u001b[33;43m\"\u001b[39;49m\u001b[43m)\u001b[49m\n\u001b[32m      9\u001b[39m \u001b[38;5;28;01mexcept\u001b[39;00m:\n",
      "\u001b[36mFile \u001b[39m\u001b[32m~/Dev/social-share/venv/lib/python3.13/site-packages/django/db/models/manager.py:87\u001b[39m, in \u001b[36mBaseManager._get_queryset_methods.<locals>.create_method.<locals>.manager_method\u001b[39m\u001b[34m(self, *args, **kwargs)\u001b[39m\n\u001b[32m     85\u001b[39m \u001b[38;5;129m@wraps\u001b[39m(method)\n\u001b[32m     86\u001b[39m \u001b[38;5;28;01mdef\u001b[39;00m\u001b[38;5;250m \u001b[39m\u001b[34mmanager_method\u001b[39m(\u001b[38;5;28mself\u001b[39m, *args, **kwargs):\n\u001b[32m---> \u001b[39m\u001b[32m87\u001b[39m     \u001b[38;5;28;01mreturn\u001b[39;00m \u001b[38;5;28;43mgetattr\u001b[39;49m\u001b[43m(\u001b[49m\u001b[38;5;28;43mself\u001b[39;49m\u001b[43m.\u001b[49m\u001b[43mget_queryset\u001b[49m\u001b[43m(\u001b[49m\u001b[43m)\u001b[49m\u001b[43m,\u001b[49m\u001b[43m \u001b[49m\u001b[43mname\u001b[49m\u001b[43m)\u001b[49m\u001b[43m(\u001b[49m\u001b[43m*\u001b[49m\u001b[43margs\u001b[49m\u001b[43m,\u001b[49m\u001b[43m \u001b[49m\u001b[43m*\u001b[49m\u001b[43m*\u001b[49m\u001b[43mkwargs\u001b[49m\u001b[43m)\u001b[49m\n",
      "\u001b[36mFile \u001b[39m\u001b[32m~/Dev/social-share/venv/lib/python3.13/site-packages/django/db/models/query.py:633\u001b[39m, in \u001b[36mQuerySet.get\u001b[39m\u001b[34m(self, *args, **kwargs)\u001b[39m\n\u001b[32m    632\u001b[39m \u001b[38;5;28;01mif\u001b[39;00m \u001b[38;5;129;01mnot\u001b[39;00m num:\n\u001b[32m--> \u001b[39m\u001b[32m633\u001b[39m     \u001b[38;5;28;01mraise\u001b[39;00m \u001b[38;5;28mself\u001b[39m.model.DoesNotExist(\n\u001b[32m    634\u001b[39m         \u001b[33m\"\u001b[39m\u001b[38;5;132;01m%s\u001b[39;00m\u001b[33m matching query does not exist.\u001b[39m\u001b[33m\"\u001b[39m % \u001b[38;5;28mself\u001b[39m.model._meta.object_name\n\u001b[32m    635\u001b[39m     )\n\u001b[32m    636\u001b[39m \u001b[38;5;28;01mraise\u001b[39;00m \u001b[38;5;28mself\u001b[39m.model.MultipleObjectsReturned(\n\u001b[32m    637\u001b[39m     \u001b[33m\"\u001b[39m\u001b[33mget() returned more than one \u001b[39m\u001b[38;5;132;01m%s\u001b[39;00m\u001b[33m -- it returned \u001b[39m\u001b[38;5;132;01m%s\u001b[39;00m\u001b[33m!\u001b[39m\u001b[33m\"\u001b[39m\n\u001b[32m    638\u001b[39m     % (\n\u001b[32m   (...)\u001b[39m\u001b[32m    641\u001b[39m     )\n\u001b[32m    642\u001b[39m )\n",
      "\u001b[31mDoesNotExist\u001b[39m: SocialAccount matching query does not exist.",
      "\nDuring handling of the above exception, another exception occurred:\n",
      "\u001b[31mException\u001b[39m                                 Traceback (most recent call last)",
      "\u001b[36mCell\u001b[39m\u001b[36m \u001b[39m\u001b[32mIn[18]\u001b[39m\u001b[32m, line 1\u001b[39m\n\u001b[32m----> \u001b[39m\u001b[32m1\u001b[39m \u001b[43mlinkedin\u001b[49m\u001b[43m.\u001b[49m\u001b[43mpost_to_linkedin\u001b[49m\u001b[43m(\u001b[49m\u001b[43mjustin_user\u001b[49m\u001b[43m,\u001b[49m\u001b[43m \u001b[49m\u001b[43mtext\u001b[49m\u001b[43m)\u001b[49m\n",
      "\u001b[36mFile \u001b[39m\u001b[32m~/Dev/social-share/src/helpers/linkedin.py:28\u001b[39m, in \u001b[36mpost_to_linkedin\u001b[39m\u001b[34m(user, text)\u001b[39m\n\u001b[32m     26\u001b[39m \u001b[38;5;28;01mif\u001b[39;00m \u001b[38;5;129;01mnot\u001b[39;00m \u001b[38;5;28misinstance\u001b[39m(user, User):\n\u001b[32m     27\u001b[39m     \u001b[38;5;28;01mraise\u001b[39;00m \u001b[38;5;167;01mException\u001b[39;00m(\u001b[33m\"\u001b[39m\u001b[33mMust be a user\u001b[39m\u001b[33m\"\u001b[39m)\n\u001b[32m---> \u001b[39m\u001b[32m28\u001b[39m linkedin_social = \u001b[43mget_linkedin_user_details\u001b[49m\u001b[43m(\u001b[49m\u001b[43muser\u001b[49m\u001b[43m)\u001b[49m\n\u001b[32m     29\u001b[39m linkedin_user_id = linkedin_social.uid\n\u001b[32m     30\u001b[39m \u001b[38;5;28;01mif\u001b[39;00m \u001b[38;5;129;01mnot\u001b[39;00m linkedin_user_id:\n",
      "\u001b[36mFile \u001b[39m\u001b[32m~/Dev/social-share/src/helpers/linkedin.py:10\u001b[39m, in \u001b[36mget_linkedin_user_details\u001b[39m\u001b[34m(user)\u001b[39m\n\u001b[32m      8\u001b[39m     linkedin_social = user.socialaccount_set.get(provider=\u001b[33m\"\u001b[39m\u001b[33mlinkedin\u001b[39m\u001b[33m\"\u001b[39m)\n\u001b[32m      9\u001b[39m \u001b[38;5;28;01mexcept\u001b[39;00m:\n\u001b[32m---> \u001b[39m\u001b[32m10\u001b[39m     \u001b[38;5;28;01mraise\u001b[39;00m \u001b[38;5;167;01mException\u001b[39;00m(\u001b[33m\"\u001b[39m\u001b[33mLinkedIn is incorrect or not working\u001b[39m\u001b[33m\"\u001b[39m)\n\u001b[32m     11\u001b[39m \u001b[38;5;28;01mreturn\u001b[39;00m linkedin_social\n",
      "\u001b[31mException\u001b[39m: LinkedIn is incorrect or not working"
     ]
    }
   ],
   "source": [
    "linkedin.post_to_linkedin(justin_user, text)"
   ]
  },
  {
   "cell_type": "code",
   "execution_count": null,
   "id": "136498f2-2709-4dbe-9170-1d41be1a9e86",
   "metadata": {},
   "outputs": [],
   "source": []
  }
 ],
 "metadata": {
  "kernelspec": {
   "display_name": "Python 3 (ipykernel)",
   "language": "python",
   "name": "python3"
  },
  "language_info": {
   "codemirror_mode": {
    "name": "ipython",
    "version": 3
   },
   "file_extension": ".py",
   "mimetype": "text/x-python",
   "name": "python",
   "nbconvert_exporter": "python",
   "pygments_lexer": "ipython3",
   "version": "3.13.1"
  }
 },
 "nbformat": 4,
 "nbformat_minor": 5
}
