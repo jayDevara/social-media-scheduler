{
 "cells": [
  {
   "cell_type": "code",
   "execution_count": 6,
   "id": "3ae5b7d5-05d4-419e-a53b-840838b187d5",
   "metadata": {},
   "outputs": [],
   "source": [
    "import setup\n",
    "setup.init()"
   ]
  },
  {
   "cell_type": "code",
   "execution_count": 7,
   "id": "0946d033-df03-490f-a33a-6bd302cee856",
   "metadata": {},
   "outputs": [],
   "source": [
    "import inngest\n",
    "from scheduler.client import inngest_client"
   ]
  },
  {
   "cell_type": "code",
   "execution_count": 8,
   "id": "a75b7d76-31fc-48a1-b3c5-6c3abde7e691",
   "metadata": {},
   "outputs": [
    {
     "data": {
      "text/plain": [
       "['01K0FTEZ2MSJKF5CEHCFAXCJZN']"
      ]
     },
     "execution_count": 8,
     "metadata": {},
     "output_type": "execute_result"
    }
   ],
   "source": [
    "await inngest_client.send(\n",
    "    inngest.Event(\n",
    "        name=\"app/my_function\",\n",
    "        data={\"abc\": 123}\n",
    "    )\n",
    ")"
   ]
  },
  {
   "cell_type": "code",
   "execution_count": 9,
   "id": "be577deb-f4c6-41cf-a72f-0d739f7ad8b1",
   "metadata": {},
   "outputs": [
    {
     "data": {
      "text/plain": [
       "['01K0FTEZ6KHC9R5NPTC4E0XAVM']"
      ]
     },
     "execution_count": 9,
     "metadata": {},
     "output_type": "execute_result"
    }
   ],
   "source": [
    "inngest_client.send_sync(\n",
    "    inngest.Event(\n",
    "        name=\"app/my_function\",\n",
    "        data={\"abc\": \"checking 134\"}\n",
    "    )\n",
    ")"
   ]
  },
  {
   "cell_type": "code",
   "execution_count": null,
   "id": "72c9c255-8d6a-43ff-bfb0-7446c4a4e6c8",
   "metadata": {},
   "outputs": [],
   "source": []
  }
 ],
 "metadata": {
  "kernelspec": {
   "display_name": "Python 3 (ipykernel)",
   "language": "python",
   "name": "python3"
  },
  "language_info": {
   "codemirror_mode": {
    "name": "ipython",
    "version": 3
   },
   "file_extension": ".py",
   "mimetype": "text/x-python",
   "name": "python",
   "nbconvert_exporter": "python",
   "pygments_lexer": "ipython3",
   "version": "3.13.1"
  }
 },
 "nbformat": 4,
 "nbformat_minor": 5
}
