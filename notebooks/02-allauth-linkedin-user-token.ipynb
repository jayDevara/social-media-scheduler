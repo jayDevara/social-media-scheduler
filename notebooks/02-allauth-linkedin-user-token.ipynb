{
 "cells": [
  {
   "cell_type": "code",
   "execution_count": 1,
   "id": "3ae5b7d5-05d4-419e-a53b-840838b187d5",
   "metadata": {},
   "outputs": [],
   "source": [
    "import setup\n",
    "setup.init()"
   ]
  },
  {
   "cell_type": "code",
   "execution_count": 2,
   "id": "843af74c-08b0-4e05-b014-b6be2203d2bf",
   "metadata": {},
   "outputs": [],
   "source": [
    "from django.contrib.auth import get_user_model"
   ]
  },
  {
   "cell_type": "code",
   "execution_count": 3,
   "id": "81dbc1ac-9e67-46e0-bf87-438564f9fb53",
   "metadata": {},
   "outputs": [],
   "source": [
    "User = get_user_model()"
   ]
  },
  {
   "cell_type": "code",
   "execution_count": 4,
   "id": "aa9569d0-b02e-430a-ba6e-faed0b187594",
   "metadata": {},
   "outputs": [
    {
     "data": {
      "text/plain": [
       "<User: justin>"
      ]
     },
     "execution_count": 4,
     "metadata": {},
     "output_type": "execute_result"
    }
   ],
   "source": [
    "user = User.objects.get(username='justin')\n",
    "user"
   ]
  },
  {
   "cell_type": "code",
   "execution_count": 23,
   "id": "56ebb9ae-2f20-4c03-92c1-8449284dbfec",
   "metadata": {},
   "outputs": [],
   "source": [
    "# dir(user)"
   ]
  },
  {
   "cell_type": "code",
   "execution_count": 9,
   "id": "8c925558-9260-4638-aaca-e153f2fc0ba9",
   "metadata": {},
   "outputs": [
    {
     "data": {
      "text/plain": [
       "<SocialAccount: justin>"
      ]
     },
     "execution_count": 9,
     "metadata": {},
     "output_type": "execute_result"
    }
   ],
   "source": [
    "user_linkedin = user.socialaccount_set.first()\n",
    "user_linkedin"
   ]
  },
  {
   "cell_type": "code",
   "execution_count": 24,
   "id": "b775d7d8-b5e5-4b35-8ba3-df30934237e2",
   "metadata": {},
   "outputs": [],
   "source": [
    "# dir(user_linkedin)"
   ]
  },
  {
   "cell_type": "code",
   "execution_count": 11,
   "id": "8c58f95d-72f0-4ae6-84a5-6acabfae3fbf",
   "metadata": {},
   "outputs": [
    {
     "data": {
      "text/plain": [
       "'linkedin'"
      ]
     },
     "execution_count": 11,
     "metadata": {},
     "output_type": "execute_result"
    }
   ],
   "source": [
    "user_linkedin.provider"
   ]
  },
  {
   "cell_type": "code",
   "execution_count": 14,
   "id": "26c88395-1e7d-48db-b47f-a5f1db70b2bb",
   "metadata": {},
   "outputs": [
    {
     "data": {
      "text/plain": [
       "<QuerySet [<SocialToken: social application token (1)>]>"
      ]
     },
     "execution_count": 14,
     "metadata": {},
     "output_type": "execute_result"
    }
   ],
   "source": [
    "tokens = user_linkedin.socialtoken_set.all()\n",
    "tokens"
   ]
  },
  {
   "cell_type": "code",
   "execution_count": 16,
   "id": "e2fef7de-6634-41ea-9ee5-183a8a7e4fdd",
   "metadata": {},
   "outputs": [
    {
     "data": {
      "text/plain": [
       "<SocialToken: social application token (1)>"
      ]
     },
     "execution_count": 16,
     "metadata": {},
     "output_type": "execute_result"
    }
   ],
   "source": [
    "social_token = tokens.first()\n",
    "social_token"
   ]
  },
  {
   "cell_type": "code",
   "execution_count": 18,
   "id": "e10c3af0-6218-497e-ae04-901d08959edc",
   "metadata": {},
   "outputs": [],
   "source": [
    "# dir(social_token)"
   ]
  },
  {
   "cell_type": "code",
   "execution_count": 22,
   "id": "1a257c87-fa6c-48a5-9a81-885169920412",
   "metadata": {},
   "outputs": [],
   "source": [
    "# social_token.token"
   ]
  },
  {
   "cell_type": "code",
   "execution_count": null,
   "id": "0f9e4610-d879-4727-a31e-ccb6513c9136",
   "metadata": {},
   "outputs": [],
   "source": []
  }
 ],
 "metadata": {
  "kernelspec": {
   "display_name": "Python 3 (ipykernel)",
   "language": "python",
   "name": "python3"
  },
  "language_info": {
   "codemirror_mode": {
    "name": "ipython",
    "version": 3
   },
   "file_extension": ".py",
   "mimetype": "text/x-python",
   "name": "python",
   "nbconvert_exporter": "python",
   "pygments_lexer": "ipython3",
   "version": "3.13.1"
  }
 },
 "nbformat": 4,
 "nbformat_minor": 5
}
